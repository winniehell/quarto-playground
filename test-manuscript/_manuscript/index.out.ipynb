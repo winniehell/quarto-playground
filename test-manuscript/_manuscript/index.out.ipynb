{
 "cells": [
  {
   "cell_type": "markdown",
   "metadata": {},
   "source": [
    "# Empty"
   ],
   "id": "f1f4b0c2-7de0-4b71-824f-edf5ac088d3b"
  },
  {
   "cell_type": "code",
   "execution_count": 1,
   "metadata": {},
   "outputs": [],
   "source": [
    "import pandas as pd\n",
    "\n",
    "pd.DataFrame(dict(x=[10,20,30]))"
   ],
   "id": "73a247ee-a4bc-4d10-8014-166565f4533b"
  },
  {
   "cell_type": "markdown",
   "metadata": {},
   "source": [
    "::: {#tbl-test2 .cell tbl-cap=’\n",
    "\n",
    "Test2 ’ execution_count=2}\n",
    "\n",
    "``` python\n",
    "import pandas as pd\n",
    "\n",
    "pd.DataFrame(dict(x=[10,20,30]))\n",
    "```\n",
    "\n",
    "<div>\n",
    "<style scoped>\n",
    "    .dataframe tbody tr th:only-of-type {\n",
    "        vertical-align: middle;\n",
    "    }\n",
    "\n",
    "    .dataframe tbody tr th {\n",
    "        vertical-align: top;\n",
    "    }\n",
    "\n",
    "    .dataframe thead th {\n",
    "        text-align: right;\n",
    "    }\n",
    "</style>\n",
    "\n",
    "|     | x   |\n",
    "|-----|-----|\n",
    "| 0   | 10  |\n",
    "| 1   | 20  |\n",
    "| 2   | 30  |\n",
    "\n",
    "</div>\n",
    "\n",
    ":::"
   ],
   "id": "d15d2b22-c55b-4b73-9123-5f0063372955"
  },
  {
   "cell_type": "code",
   "execution_count": 3,
   "metadata": {},
   "outputs": [],
   "source": [
    "import pandas as pd\n",
    "\n",
    "pd.DataFrame(dict(x=[10,20,30]))"
   ],
   "id": "cell-fig-test3"
  }
 ],
 "nbformat": 4,
 "nbformat_minor": 5,
 "metadata": {}
}
